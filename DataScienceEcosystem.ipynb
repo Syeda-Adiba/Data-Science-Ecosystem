{
 "cells": [
  {
   "cell_type": "markdown",
   "id": "fe1fddda-6c03-4861-9f3e-c45052ed0649",
   "metadata": {},
   "source": [
    "# Data Science Tools and Ecosystem"
   ]
  },
  {
   "cell_type": "markdown",
   "id": "1ca25c86-3daf-4fcd-8e80-94a72219252e",
   "metadata": {},
   "source": [
    "In this notebook, Data Science Tools and Ecosystem are summarized."
   ]
  },
  {
   "cell_type": "markdown",
   "id": "3f5e2ef1-68f3-480f-9ac0-30b5e517b5e9",
   "metadata": {},
   "source": [
    "**Objectives:**\n",
    "- Learning about DS languages\n",
    "- Learning about DS libraries\n",
    "- Learning about DS Tools"
   ]
  },
  {
   "cell_type": "markdown",
   "id": "413f6699-2798-434b-9dc0-9db2559ed8f9",
   "metadata": {},
   "source": [
    ">Some of the popular languages that Data Scientists use are:\n",
    "1. Python\n",
    "2. R\n",
    "3. SQL\n",
    "4. Scala\n",
    "5. Java\n",
    "6. C++\n",
    "7. Julia\n",
    "8. JavaScript\n",
    "9. PHP"
   ]
  },
  {
   "cell_type": "markdown",
   "id": "8ca8b524-aea0-4b1b-8096-0861941baf14",
   "metadata": {},
   "source": [
    ">Some of the commonly used libraries used by Data Scientists include:\n",
    "1. Pandas\n",
    "2. NumPy\n",
    "3. Matplotlib\n",
    "4. Scikit-learn\n",
    "5. TensorFlow"
   ]
  },
  {
   "cell_type": "markdown",
   "id": "fcff7f77-2568-4bde-8ac3-3fead262b3b9",
   "metadata": {},
   "source": [
    ">Some of the commonly used Tools used by Data Scientists include:\n",
    "\n",
    "|Data Science Tools|\n",
    "|-------------------|\n",
    "|Apache Spark|\n",
    "|Tableau|\n",
    "|Jupyter Notebook|\n"
   ]
  },
  {
   "cell_type": "markdown",
   "id": "4c4870d8-6b6e-43a1-a109-2401a9c623dd",
   "metadata": {},
   "source": [
    "### Below are a few examples of evaluating arithmetic expressions in Python:"
   ]
  },
  {
   "cell_type": "code",
   "execution_count": 19,
   "id": "5851c52c-290e-424a-aa66-ca0131b14b64",
   "metadata": {},
   "outputs": [
    {
     "data": {
      "text/plain": [
       "17"
      ]
     },
     "execution_count": 19,
     "metadata": {},
     "output_type": "execute_result"
    }
   ],
   "source": [
    "(3*4)+5\n",
    "# This a simple arithmetic expression to mutiply then add integers"
   ]
  },
  {
   "cell_type": "code",
   "execution_count": 39,
   "id": "3e80d728-c010-4203-b2a1-68767b22c617",
   "metadata": {},
   "outputs": [
    {
     "name": "stdout",
     "output_type": "stream",
     "text": [
      "Time in Hours=  3.3333333333333335\n"
     ]
    }
   ],
   "source": [
    "time_in_minutes = 200\n",
    "time_in_hours = time_in_minutes/60\n",
    "print (\"Time in Hours= \",time_in_hours)\n",
    "# This will convert 200 minutes to hours by diving by 60"
   ]
  },
  {
   "cell_type": "markdown",
   "id": "61ebbe3f-ab7a-468a-9689-bc0d9923aa7c",
   "metadata": {},
   "source": [
    "## Author\n",
    "Syeda Adiba Mirzana"
   ]
  }
 ],
 "metadata": {
  "kernelspec": {
   "display_name": "Python 3 (ipykernel)",
   "language": "python",
   "name": "python3"
  },
  "language_info": {
   "codemirror_mode": {
    "name": "ipython",
    "version": 3
   },
   "file_extension": ".py",
   "mimetype": "text/x-python",
   "name": "python",
   "nbconvert_exporter": "python",
   "pygments_lexer": "ipython3",
   "version": "3.12.9"
  }
 },
 "nbformat": 4,
 "nbformat_minor": 5
}
